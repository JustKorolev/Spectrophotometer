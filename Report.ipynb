{
 "cells": [
  {
   "cell_type": "markdown",
   "id": "2067e2db-89fd-49a8-a9c4-20fc25bb45a0",
   "metadata": {},
   "source": [
    "# MedE 189 Spectrophotometer Write-up\n",
    "## Andrey Korolev\n"
   ]
  },
  {
   "cell_type": "markdown",
   "id": "f20c195a-bac9-403e-a935-fc2d8980fe4f",
   "metadata": {},
   "source": [
    "1. **Overview**\n",
    "\n",
    "    The objective of this project was to design and prototype a spectrophotometer capable of measuring optical absorbance near 600 nm. The device was required to operate in both standalone mode, displaying absorbance readings on an LCD, and computer-controlled mode, allowing real-time plotting and data export as CSV. A calibration mode was also implemented to zero the absorbance using a blank sample.\n",
    "\n",
    "    The spectrophotometer was then used to perform an optical assay of an enzyme-catalyzed reaction. Specifically, the device measured absorbance over time as amylase in human saliva catalyzed the breakdown of a starch-iodine complex into sugars and free iodine. The decrease in substrate concentration was inferred from the drop in absorbance, and the resulting data was used to estimate both the initial reaction rate and the effective time constant of the catalysis."
   ]
  },
  {
   "cell_type": "markdown",
   "id": "1dee6bc6-f063-4754-8d8c-9b49b90ad36f",
   "metadata": {},
   "source": [
    "2. **Design and Considerations**\n",
    "\n",
    "    Several key design choices were made to ensure optimal device performance and user convenience. All circuitry—including the LED, photodiode, and cuvette holder was housed in a 3D-printed enclosure to block ambient light and provide ease of use. The interior was spray-painted matte black to minimize internal reflections and prevent interference with absorbance measurements. Additional sources of stray light, such as the Arduino and LCD display, were either repositioned away from the sample or physically shielded. In order to decrease the probability of reflection, the LED and photodiode were placed as close as possible straight across from each other, with the cuvette standing in between. These precautions were essential because any light outside the LED’s beam path can distort absorbance calculations, which assume the LED is the sole source of illumination.\n",
    "\n",
    "    For convenience, a compact elevator mechanism was included to raise and lower the cuvette at the push of a button. While this feature improved usability, the cutout through which the cuvette emerged had small gaps that allowed ambient light leakage—an oversight that slightly distorted the measurements.\n",
    "\n",
    "    The circuitry (Fig. 1) featured an LED–photodiode pair for absorbance measurements. A photodiode was selected over a photoresistor due to its superior speed and sensitivity. A red LED was chosen to match the ~600 nm wavelength required for the assay, and a 150-ohm resistor was added in series to maximize brightness without overdriving the component. The photodiode output was converted to voltage via a transimpedance amplifier (using a 100-kohm resistor) and then passed through a low-pass filter (tau=0.15s) to reduce noise at the cost of slight lag. This filtered signal was finally fed to an ADC as opposed to the Arduino's analog pin for a higher-precision reading.\n",
    "\n",
    "    The user interface supported two modes: standalone and computer-connected. In standalone mode, the LCD screen displayed an “Awaiting Input” prompt, allowing the user to toggle the elevator, calibrate the photodiode, or take a single measurement. Each action triggered a corresponding status message to inform the user of the device's current state. In computer-connected mode, a GUI allowed the user to stream measurements continuously (delay of 20ms between each sample), request single measurements, and save data in CSV format. The streaming feature was implemented particularly for kinetic experiments that require rapid sequential data.\n",
    "\n",
    "\n",
    "\n"
   ]
  },
  {
   "cell_type": "markdown",
   "id": "92990659-844c-470b-bcdb-4b5de8d57084",
   "metadata": {},
   "source": [
    "![](Schematic.png)\n",
    "\n",
    "<u>Figure 1</u>. The schematic for the spectrophotometer.\n",
    "\n",
    "![](Model_Uncovered.png)\n",
    "\n",
    "<u>Figure 2</u>. CAD design of the spectrophotometer (covered).\n",
    "\n",
    "![](Model_Covered.png)\n",
    "\n",
    "<u>Figure 3</u>. CAD design of the spectrophotometer (uncovered).\n"
   ]
  },
  {
   "cell_type": "markdown",
   "id": "4794f5ab-981c-4934-a5a9-a869d7217be2",
   "metadata": {},
   "source": [
    "3. **Instructions for use**\n",
    "\n",
    "   As mentioned previously, the device operates in one of two modes: stand-alone and computer-connected.\n",
    "\n",
    "   <u>Stand-alone Controls (screen side closer to user)</u>:\n",
    "   \n",
    "    1. Right-most button - toggle for the elevator\n",
    "    2. Left-most button - hold for two seconds to calibrate, simply press to take measurement\n",
    "    \n",
    "    <br>\n",
    "    <u>Computer-Connected Controls (screen side closer to user)</u>:\n",
    "    \n",
    "    1. Stream button - toggle the continuous data acquisition\n",
    "    2. Acquire button - take a single sample\n",
    "    3. Reset buttons - reset both plots\n",
    "    4. Save buttons - save the repsective data (stream or acquire) as a CSV\n",
    "\n",
    "   <br>\n",
    "   <u>General Instructions</u>\n",
    "   \n",
    "    1. Use the right-most button to eject the cuvette holder\n",
    "    2. Carefully insert an empty cuvette\n",
    "    3. Again, use the right-most button to insert the cuvette holder\n",
    "    4. Hold the left-most button for 2 seconds to calibrate the device\n",
    "    5. Perform the cuvette insertion procedure again but with the actual sample\n",
    "    6. Record the data using either of the two modes\n",
    "   \n",
    "   "
   ]
  },
  {
   "attachments": {},
   "cell_type": "markdown",
   "id": "bdb83e60-3103-48df-9a06-db24414e1ceb",
   "metadata": {},
   "source": [
    "4. **Demonstration and Assessment**\n",
    "\n",
    "&nbsp;&nbsp;&nbsp;&nbsp;The device measures the absorbance of the sample relatively well, matching the commercial spectrophotometer within a tolerance of 0.05, which is sufficient for the purposes of the project. When collecting data, the low pass filter does a good job at reducing the transient noise present in the reading.\n",
    "   \n",
    "&nbsp;&nbsp;&nbsp;&nbsp;My method of calibration and voltage-absorbance conversion seems to work relatively well. Instead of fitting the measured photodiode voltage to the absorbance measured by the commercial spectrophotometer, I decided to use the relationship A = log10(I0 / I) + A_blank. While this method worked relatively well, I also decided to scale and offset the result in order to more closely match the results of the commercial device (Figure 4.), which also proved to be more accurate.\n",
    "\n",
    "&nbsp;&nbsp;&nbsp;&nbsp;Finally, the absorbance to concentration conversion seemed to work pretty accurately. This conversion was performed by taking samples with known concentration percentage, measuring their absorbances, and fitting a curve to the values to determine the relationship between the two (Figure 5.).\n",
    "\n",
    "<br>\n",
    "\n",
    "![](actual_vs_observed_od.png)\n",
    "\n",
    "<u>Figure 4</u>. Actual (commercial) vs Observed Absorbance Values.\n",
    "\n",
    "<br>\n",
    "\n",
    "![](concentration_vs_od.png)\n",
    "\n",
    "<u>Figure 5</u>. Concentration vs Absorbance Plot.\n"
   ]
  },
  {
   "cell_type": "markdown",
   "id": "bd9b036b-1769-4a9f-9815-0d64386c46ba",
   "metadata": {},
   "source": [
    "5. **Procedure & Data Analysis**\n",
    "\n",
    "&nbsp;&nbsp;&nbsp;&nbsp;The monitored reaction was the catalysis of the starch-iodine complex into sugars and free iodine by the amylase in saliva. The starch-iodine complex absorbs near 600 nm wavelengths, making the red light measurements suitable to measure the absorbance and thus the concentration of the starch-iodine complex over time.\n",
    "\n",
    "&nbsp;&nbsp;&nbsp;&nbsp;The assay was performed by mixing 2 mL of a starch-iodine solution thoroughly with a 30 µL sample of human saliva (without eating, brushing, or rinsing for 30 minutes) in a small cup. Then, 1 mL of the sample was transferred to a standard cuvette, which was then immediately placed inside of the spectrophotometer, at which point the absorbance readings were streamed to the laptop.\n",
    "\n",
    "&nbsp;&nbsp;&nbsp;&nbsp;The absorbance measurements were taken over a span of 50 minutes, converted to concentrations using the previously discussed scaling, and displayed the expected behavior: a linear regime in the first 1.5 minutes, followed by an exponential decay (Figure 6).\n",
    "\n",
    "\n",
    "\n",
    "\n",
    "![](trial1_concentration.png)\n",
    "\n",
    "<u>Figure 6</u>. Concentration vs Time Plot with a Linear and Exponential Fit.\n",
    "\n",
    "<br>\n",
    "\n",
    "&nbsp;&nbsp;&nbsp;&nbsp;Then, the initial reaction rate (V0) was extracted by taking the slope of the linear regime, whereas the decay rate was taken from the exponential fit. V0 was found to be 3.8e-4 wt%/sec and the decay rate from the fit was 1.57e-3 s^-1.\n",
    "\n",
    "&nbsp;&nbsp;&nbsp;&nbsp;A linear and exponential fit were used instead of the Michaelis-Menten equation due to its poor fit to the data for unknown reasons. Still, the effective time constant in the Michaelis-Menten equation was approximated by taking the reciprocal of the decay rate, resulting in an effective time constant of 637 seconds - the time it takes for the substrate concentration to drop significantly. This effective time constant is relatively large and could have been caused by the consumption of food in the time before the experiment or possibly due to weak saliva (skill issue).\n",
    "    "
   ]
  },
  {
   "cell_type": "markdown",
   "id": "e49afc10-d177-4370-805c-616f93f5432c",
   "metadata": {},
   "source": [
    "6. **Design Suggestions**\n",
    "\n",
    "&nbsp;&nbsp;&nbsp;&nbsp;For future iterations of the device, I would add a tiny lid to cover the gaps around the cuvette holder to prevent penetration of light. Additionally, to decrease the device's size, I would replace the stepper motor used to drive the elevator with a simple servo, which would simplify the elevator mechanism. Finally, I would use a more concentrated source of light, like a laser, to even further prevent the possibility of light scattering across the interior walls."
   ]
  },
  {
   "cell_type": "code",
   "execution_count": null,
   "id": "ed927cc8-e28e-47a5-91d2-84af31789041",
   "metadata": {
    "jupyter": {
     "source_hidden": true
    }
   },
   "outputs": [],
   "source": []
  },
  {
   "cell_type": "code",
   "execution_count": null,
   "id": "2056ed93-c3eb-4f62-bbdd-06a4e9271fe8",
   "metadata": {},
   "outputs": [],
   "source": []
  }
 ],
 "metadata": {
  "kernelspec": {
   "display_name": "Python 3 (ipykernel)",
   "language": "python",
   "name": "python3"
  },
  "language_info": {
   "codemirror_mode": {
    "name": "ipython",
    "version": 3
   },
   "file_extension": ".py",
   "mimetype": "text/x-python",
   "name": "python",
   "nbconvert_exporter": "python",
   "pygments_lexer": "ipython3",
   "version": "3.13.2"
  }
 },
 "nbformat": 4,
 "nbformat_minor": 5
}
